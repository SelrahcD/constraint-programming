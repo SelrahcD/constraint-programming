{
 "cells": [
  {
   "cell_type": "markdown",
   "metadata": {},
   "source": [
    "# Constraint Programming\n",
    "\n",
    "Following [this article](https://mlabonne.github.io/blog/constraintprogramming/)\n",
    "\n",
    "## Satisfiability with the 3 scouts problem\n"
   ]
  },
  {
   "cell_type": "code",
   "execution_count": 10,
   "metadata": {
    "collapsed": false,
    "jupyter": {
     "outputs_hidden": false
    }
   },
   "outputs": [
    {
     "name": "stdout",
     "output_type": "stream",
     "text": [
      "================= Solution =================\n",
      "Solved in 0.00 milliseconds\n",
      "\n",
      "🪖 Army = 9139\n",
      "\n",
      "Check solution:\n",
      " - Constraint 1: 9139 % 13 = 0\n",
      " - Constraint 2: 9139 % 19 = 0\n",
      " - Constraint 3: 9139 % 37 = 0\n"
     ]
    }
   ],
   "source": [
    "from ortools.sat.python import cp_model\n",
    "\n",
    "model = cp_model.CpModel()\n",
    "solver = cp_model.CpSolver()\n",
    "\n",
    "army = model.NewIntVar(1, 10000, 'army')\n",
    "\n",
    "model.AddModuloEquality(0, army, 13)\n",
    "model.AddModuloEquality(0, army, 19)\n",
    "model.AddModuloEquality(0, army, 37)\n",
    "\n",
    "status = solver.Solve(model)\n",
    "\n",
    "if status == cp_model.OPTIMAL or status == cp_model.FEASIBLE:\n",
    "    print('================= Solution =================')\n",
    "    print(f'Solved in {solver.WallTime():.2f} milliseconds')\n",
    "    print()\n",
    "    print(f'🪖 Army = {solver.Value(army)}')\n",
    "    print()\n",
    "    print('Check solution:')\n",
    "    print(f' - Constraint 1: {solver.Value(army)} % 13 = {solver.Value(army) % 13}')\n",
    "    print(f' - Constraint 2: {solver.Value(army)} % 19 = {solver.Value(army) % 19}')\n",
    "    print(f' - Constraint 3: {solver.Value(army)} % 37 = {solver.Value(army) % 37}')\n",
    "\n",
    "else:\n",
    "    print('The solver could not find a solution.')\n"
   ]
  },
  {
   "cell_type": "code",
   "execution_count": 26,
   "metadata": {
    "collapsed": false,
    "jupyter": {
     "outputs_hidden": false
    }
   },
   "outputs": [
    {
     "name": "stdout",
     "output_type": "stream",
     "text": [
      "9139\n",
      "18278\n",
      "27417\n",
      "36556\n",
      "45695\n",
      "54834\n",
      "63973\n",
      "73112\n",
      "82251\n",
      "91390\n"
     ]
    }
   ],
   "source": [
    "from ortools.sat.python import cp_model\n",
    "\n",
    "model = cp_model.CpModel()\n",
    "solver = cp_model.CpSolver()\n",
    "\n",
    "army = model.NewIntVar(1, 100000, 'army')\n",
    "\n",
    "model.AddModuloEquality(0, army, 13)\n",
    "model.AddModuloEquality(0, army, 19)\n",
    "model.AddModuloEquality(0, army, 37)\n",
    "\n",
    "class PrintSolutions(cp_model.CpSolverSolutionCallback):\n",
    "    \"\"\"Callback to print every solution\"\"\"\n",
    "\n",
    "    def __init__(self, variable):\n",
    "        cp_model.CpSolverSolutionCallback.__init__(self)\n",
    "        self.__variable = variable\n",
    "\n",
    "    def on_solution_callback(self):\n",
    "        print(self.Value(self.__variable))\n",
    "\n",
    "\n",
    "solution_printer = PrintSolutions(army)\n",
    "solver.parameters.enumerate_all_solutions = True\n",
    "status = solver.Solve(model, solution_printer)\n"
   ]
  },
  {
   "cell_type": "markdown",
   "metadata": {},
   "source": [
    "## Optimization and beer"
   ]
  },
  {
   "cell_type": "code",
   "execution_count": 30,
   "metadata": {
    "collapsed": false,
    "jupyter": {
     "outputs_hidden": false
    }
   },
   "outputs": [
    {
     "name": "stdout",
     "output_type": "stream",
     "text": [
      "================= Solution =================\n",
      "Solved in 0.00 milliseconds\n",
      "\n",
      "Optimal value = 68 popularity\n",
      "Food:\n",
      " - 🥖Bread = 2\n",
      " - 🥩Meat  = 1\n",
      " - 🍺Beer  = 2\n"
     ]
    }
   ],
   "source": [
    "model = cp_model.CpModel()\n",
    "solver = cp_model.CpSolver()\n",
    "\n",
    "capacity = 19\n",
    "bread = model.NewIntVar(0, capacity, 'bread')\n",
    "meat = model.NewIntVar(0, capacity, 'meat')\n",
    "beer = model.NewIntVar(0, capacity, 'beer')\n",
    "\n",
    "model.Add(1 * bread + 3 * meat + 7 * beer <= capacity)\n",
    "\n",
    "model.Maximize(3 * bread + 10 * meat + 26 * beer)\n",
    "\n",
    "status = solver.Solve(model)\n",
    "\n",
    "# If an optimal solution has been found, print results\n",
    "if status == cp_model.OPTIMAL:\n",
    "    print('================= Solution =================')\n",
    "    print(f'Solved in {solver.WallTime():.2f} milliseconds')\n",
    "    print()\n",
    "    print(f'Optimal value = {3*solver.Value(bread)+10*solver.Value(meat)+26*solver.Value(beer)} popularity')\n",
    "    print('Food:')\n",
    "    print(f' - 🥖Bread = {solver.Value(bread)}')\n",
    "    print(f' - 🥩Meat  = {solver.Value(meat)}')\n",
    "    print(f' - 🍺Beer  = {solver.Value(beer)}')\n",
    "else:\n",
    "    print('The solver could not find an optimal solution.')\n"
   ]
  },
  {
   "cell_type": "code",
   "execution_count": 33,
   "metadata": {
    "collapsed": false,
    "jupyter": {
     "outputs_hidden": false
    }
   },
   "outputs": [
    {
     "name": "stdout",
     "output_type": "stream",
     "text": [
      "121\n"
     ]
    }
   ],
   "source": [
    "model = cp_model.CpModel()\n",
    "solver = cp_model.CpSolver()\n",
    "\n",
    "capacity = 19\n",
    "bread = model.NewIntVar(0, capacity, 'bread')\n",
    "meat = model.NewIntVar(0, capacity, 'meat')\n",
    "beer = model.NewIntVar(0, capacity, 'beer')\n",
    "\n",
    "model.Add(1 * bread + 3 * meat + 7 * beer <= capacity)\n",
    "\n",
    "# model.Maximize(3 * bread + 10 * meat + 26 * beer)\n",
    "\n",
    "class CountSolutions(cp_model.CpSolverSolutionCallback):\n",
    "    \"\"\"Count the number of solutions.\"\"\"\n",
    "\n",
    "    def __init__(self):\n",
    "        cp_model.CpSolverSolutionCallback.__init__(self)\n",
    "        self.__solution_count = 0\n",
    "\n",
    "    def on_solution_callback(self):\n",
    "        self.__solution_count += 1\n",
    "\n",
    "    def solution_count(self):\n",
    "        return self.__solution_count\n",
    "\n",
    "solution_printer = CountSolutions()\n",
    "\n",
    "solver.parameters.enumerate_all_solutions = True\n",
    "status = solver.Solve(model, solution_printer)\n",
    "print(solution_printer.solution_count())"
   ]
  }
 ],
 "metadata": {
  "kernelspec": {
   "display_name": "Python 3 (ipykernel)",
   "language": "python",
   "name": "python3"
  },
  "language_info": {
   "codemirror_mode": {
    "name": "ipython",
    "version": 3
   },
   "file_extension": ".py",
   "mimetype": "text/x-python",
   "name": "python",
   "nbconvert_exporter": "python",
   "pygments_lexer": "ipython3",
   "version": "3.10.8"
  }
 },
 "nbformat": 4,
 "nbformat_minor": 4
}
