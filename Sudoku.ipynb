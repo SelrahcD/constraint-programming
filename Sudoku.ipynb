{
 "cells": [
  {
   "cell_type": "markdown",
   "metadata": {},
   "source": [
    "# Sudoku\n",
    "\n",
    "## First, a case"
   ]
  },
  {
   "cell_type": "code",
   "execution_count": 16,
   "metadata": {
    "collapsed": false,
    "jupyter": {
     "outputs_hidden": false
    }
   },
   "outputs": [
    {
     "name": "stdout",
     "output_type": "stream",
     "text": [
      "1\n",
      "2\n",
      "3\n",
      "4\n",
      "5\n",
      "6\n",
      "7\n",
      "8\n",
      "9\n"
     ]
    }
   ],
   "source": [
    "from ortools.sat.python import cp_model\n",
    "\n",
    "# Instantiate model and solver\n",
    "model = cp_model.CpModel()\n",
    "solver = cp_model.CpSolver()\n",
    "\n",
    "case = model.NewIntVar(1, 9, 'case')\n",
    "\n",
    "class PrintSolutions(cp_model.CpSolverSolutionCallback):\n",
    "    \"\"\"Callback to print every solution\"\"\"\n",
    "\n",
    "    def __init__(self, variable):\n",
    "        cp_model.CpSolverSolutionCallback.__init__(self)\n",
    "        self.__variable = variable\n",
    "\n",
    "    def on_solution_callback(self):\n",
    "        print(self.Value(self.__variable))\n",
    "\n",
    "\n",
    "solution_printer = PrintSolutions(case)\n",
    "solver.parameters.enumerate_all_solutions = True\n",
    "status = solver.Solve(model, solution_printer)\n"
   ]
  },
  {
   "cell_type": "markdown",
   "metadata": {},
   "source": [
    "## Now, 2 cases"
   ]
  },
  {
   "cell_type": "code",
   "execution_count": 17,
   "metadata": {
    "collapsed": false,
    "jupyter": {
     "outputs_hidden": false
    }
   },
   "outputs": [
    {
     "name": "stdout",
     "output_type": "stream",
     "text": [
      "[1, 2]\n",
      "[2, 1]\n"
     ]
    }
   ],
   "source": [
    "# Instantiate model and solver\n",
    "model = cp_model.CpModel()\n",
    "solver = cp_model.CpSolver()\n",
    "\n",
    "caseA = model.NewIntVar(1, 2, 'case')\n",
    "caseB = model.NewIntVar(1, 2, 'case')\n",
    "\n",
    "model.AddAllDifferent([caseA, caseB])\n",
    "\n",
    "class PrintSolutions(cp_model.CpSolverSolutionCallback):\n",
    "    \"\"\"Callback to print every solution\"\"\"\n",
    "\n",
    "    def __init__(self, variableA, variableB):\n",
    "        cp_model.CpSolverSolutionCallback.__init__(self)\n",
    "        self.__variableA = variableA\n",
    "        self.__variableB = variableB\n",
    "\n",
    "    def on_solution_callback(self):\n",
    "        print(\"[\" + str(self.Value(self.__variableA)) + \", \"  + str(self.Value(self.__variableB)) + \"]\")\n",
    "\n",
    "\n",
    "solution_printer = PrintSolutions(caseA, caseB)\n",
    "solver.parameters.enumerate_all_solutions = True\n",
    "status = solver.Solve(model, solution_printer)\n",
    "\n"
   ]
  },
  {
   "cell_type": "markdown",
   "metadata": {},
   "source": [
    "## All elements of a line must be different\n"
   ]
  },
  {
   "cell_type": "code",
   "execution_count": 18,
   "metadata": {
    "collapsed": false,
    "jupyter": {
     "outputs_hidden": false
    }
   },
   "outputs": [
    {
     "name": "stdout",
     "output_type": "stream",
     "text": [
      "3 2 1\n",
      "3 1 2\n",
      "2 3 1\n",
      "2 1 3\n",
      "1 3 2\n",
      "1 2 3\n"
     ]
    }
   ],
   "source": [
    "# Instantiate model and solver\n",
    "model = cp_model.CpModel()\n",
    "solver = cp_model.CpSolver()\n",
    "\n",
    "line1 = [model.NewIntVar(1, 3, 'case' + str(i)) for i in range(0, 3)]\n",
    "\n",
    "model.AddAllDifferent(line1)\n",
    "\n",
    "class PrintSolutions(cp_model.CpSolverSolutionCallback):\n",
    "    \"\"\"Callback to print every solution\"\"\"\n",
    "\n",
    "    def __init__(self, line):\n",
    "        cp_model.CpSolverSolutionCallback.__init__(self)\n",
    "        self.__line = line\n",
    "\n",
    "    def on_solution_callback(self):\n",
    "        print(' '.join(map(lambda x: str(self.Value(x)), self.__line)))\n",
    "\n",
    "\n",
    "\n",
    "solution_printer = PrintSolutions(line1)\n",
    "solver.parameters.enumerate_all_solutions = True\n",
    "status = solver.Solve(model, solution_printer)\n"
   ]
  },
  {
   "cell_type": "code",
   "execution_count": 19,
   "metadata": {
    "collapsed": false,
    "jupyter": {
     "outputs_hidden": false
    }
   },
   "outputs": [
    {
     "name": "stdout",
     "output_type": "stream",
     "text": [
      "5 7 9 2 8 3 1 6 4\n",
      "6 2 3 1 5 4 7 9 8\n",
      "8 1 4 7 9 6 3 2 5\n",
      "2 8 7 6 1 5 9 4 3\n",
      "3 9 5 4 2 8 6 1 7\n",
      "1 4 6 3 7 9 5 8 2\n",
      "4 3 2 9 6 7 8 5 1\n",
      "9 5 1 8 3 2 4 7 6\n",
      "7 6 8 5 4 1 2 3 9\n",
      "#####\n",
      "5 7 9 2 8 3 1 6 4\n",
      "6 2 3 1 5 4 7 9 8\n",
      "8 1 4 7 9 6 3 2 5\n",
      "2 8 7 6 1 5 9 4 3\n",
      "3 9 5 4 2 8 6 1 7\n",
      "1 4 6 3 7 9 5 8 2\n",
      "4 3 2 9 6 7 8 5 1\n",
      "9 5 1 8 3 2 4 7 6\n",
      "7 6 8 5 4 1 2 3 9\n",
      "#####\n"
     ]
    }
   ],
   "source": [
    "# Instantiate model and solver\n",
    "model = cp_model.CpModel()\n",
    "solver = cp_model.CpSolver()\n",
    "\n",
    "lineCount = 9\n",
    "columnCount = 9\n",
    "\n",
    "grid = [\n",
    "    [model.NewIntVar(1, columnCount, 'case' + str(i)) for i in range(0, columnCount)] for l in range(0, lineCount)\n",
    "]\n",
    "\n",
    "## Constraint of 3x3 squares\n",
    "def square(ii,jj):\n",
    "    return [grid[i+ii][j+jj] for i in range(0,3) for j in range(0,3)]\n",
    "\n",
    "[model.AddAllDifferent(square(x,y)) for x in range(0,6,3) for y in range(0,6,3)]\n",
    "\n",
    "## Constraint line\n",
    "for line in grid:\n",
    "    model.AddAllDifferent(line)\n",
    "\n",
    "## Constraint column\n",
    "def column(matrix, i):\n",
    "    return [row[i] for row in matrix]\n",
    "\n",
    "[model.AddAllDifferent(column(grid, i)) for i in range(0, columnCount)]\n",
    "\n",
    "class PrintSolutions(cp_model.CpSolverSolutionCallback):\n",
    "    \"\"\"Callback to print every solution\"\"\"\n",
    "\n",
    "    def __init__(self, grid):\n",
    "        cp_model.CpSolverSolutionCallback.__init__(self)\n",
    "        self.__grid = grid\n",
    "\n",
    "    def on_solution_callback(self):\n",
    "        [self.print_line(line) for line in self.__grid]\n",
    "        print(\"#####\")\n",
    "\n",
    "    def print_line(self, line):\n",
    "        print(' '.join(map(lambda x: str(self.Value(x)), line)))\n",
    "\n",
    "\n",
    "\n",
    "solution_printer = PrintSolutions(grid)\n",
    "# solver.parameters.enumerate_all_solutions = True\n",
    "status = solver.Solve(model, solution_printer)\n",
    "\n",
    "if status != 4:\n",
    "    print(\"Error\")\n",
    "\n"
   ]
  },
  {
   "cell_type": "code",
   "execution_count": 45,
   "metadata": {
    "collapsed": false,
    "jupyter": {
     "outputs_hidden": false
    }
   },
   "outputs": [
    {
     "data": {
      "text/plain": "IntSlider(value=0)",
      "application/vnd.jupyter.widget-view+json": {
       "version_major": 2,
       "version_minor": 0,
       "model_id": "c03e408a374b4dfe8d0e52ffca2ec66e"
      }
     },
     "metadata": {},
     "output_type": "display_data"
    }
   ],
   "source": [
    "from ipywidgets import interact\n",
    "import ipywidgets as widgets\n",
    "\n",
    "w = widgets.IntSlider()\n",
    "display(w)\n"
   ]
  },
  {
   "cell_type": "code",
   "execution_count": null,
   "outputs": [
    {
     "data": {
      "text/plain": "interactive(children=(IntSlider(value=10, description='x', max=30, min=-10), Output()), _dom_classes=('widget-…",
      "application/vnd.jupyter.widget-view+json": {
       "version_major": 2,
       "version_minor": 0,
       "model_id": "34dba9497ff84972b8b052f251976fe0"
      }
     },
     "metadata": {},
     "output_type": "display_data"
    },
    {
     "name": "stdout",
     "output_type": "stream",
     "text": [
      "0\n"
     ]
    }
   ],
   "source": [
    "# sort_checkbox = widgets.BoundedIntText(\n",
    "#     value=0,\n",
    "#     min=1,\n",
    "#     max=9,\n",
    "#     step=1,\n",
    "#     disabled=False\n",
    "# )\n",
    "\n",
    "a = 0;\n",
    "\n",
    "def f(x):\n",
    "    a = x\n",
    "\n",
    "interact(f, x=10)\n",
    "# display(sort_checkbox)\n",
    "\n",
    "print(a)\n"
   ],
   "metadata": {
    "collapsed": false,
    "pycharm": {
     "is_executing": true
    }
   }
  },
  {
   "cell_type": "code",
   "execution_count": 30,
   "outputs": [
    {
     "data": {
      "text/plain": "GridBox(children=(Label(value='0'), Label(value='1'), Label(value='2'), Label(value='3'), Label(value='4'), La…",
      "application/vnd.jupyter.widget-view+json": {
       "version_major": 2,
       "version_minor": 0,
       "model_id": "05385be636bf4121ab6e908c792cf2aa"
      }
     },
     "execution_count": 30,
     "metadata": {},
     "output_type": "execute_result"
    }
   ],
   "source": [
    "items = [widgets.Label(str(i)) for i in range(8)]\n",
    "widgets.GridBox(items, layout=widgets.Layout(grid_template_columns=\"repeat(3, 100px)\"))"
   ],
   "metadata": {
    "collapsed": false
   }
  },
  {
   "cell_type": "code",
   "execution_count": 42,
   "outputs": [
    {
     "data": {
      "text/plain": "GridBox(children=(Label(value='2'), Label(value='5'), Label(value='1'), Label(value='3'), Label(value='4'), La…",
      "application/vnd.jupyter.widget-view+json": {
       "version_major": 2,
       "version_minor": 0,
       "model_id": "c3c9cad0ff9d41ff9bbc6f48f5b11d25"
      }
     },
     "metadata": {},
     "output_type": "display_data"
    },
    {
     "name": "stdout",
     "output_type": "stream",
     "text": [
      "#####\n"
     ]
    },
    {
     "data": {
      "text/plain": "GridBox(children=(Label(value='1'), Label(value='9'), Label(value='3'), Label(value='5'), Label(value='7'), La…",
      "application/vnd.jupyter.widget-view+json": {
       "version_major": 2,
       "version_minor": 0,
       "model_id": "477637d89e3943858ebca89ddb2b6751"
      }
     },
     "metadata": {},
     "output_type": "display_data"
    },
    {
     "name": "stdout",
     "output_type": "stream",
     "text": [
      "#####\n"
     ]
    },
    {
     "data": {
      "text/plain": "GridBox(children=(Label(value='1'), Label(value='2'), Label(value='7'), Label(value='3'), Label(value='5'), La…",
      "application/vnd.jupyter.widget-view+json": {
       "version_major": 2,
       "version_minor": 0,
       "model_id": "a6500c1e59434e9e9353f652099a6788"
      }
     },
     "metadata": {},
     "output_type": "display_data"
    },
    {
     "name": "stdout",
     "output_type": "stream",
     "text": [
      "#####\n"
     ]
    }
   ],
   "source": [
    "# Instantiate model and solver\n",
    "model = cp_model.CpModel()\n",
    "solver = cp_model.CpSolver()\n",
    "\n",
    "lineCount = 9\n",
    "columnCount = 9\n",
    "\n",
    "grid = [\n",
    "    [model.NewIntVar(1, columnCount, 'case' + str(i)) for i in range(0, columnCount)] for l in range(0, lineCount)\n",
    "]\n",
    "\n",
    "## Constraint of 3x3 squares\n",
    "def square(ii,jj):\n",
    "    return [grid[i+ii][j+jj] for i in range(0,3) for j in range(0,3)]\n",
    "\n",
    "[model.AddAllDifferent(square(x,y)) for x in range(0,6,3) for y in range(0,6,3)]\n",
    "\n",
    "## Constraint line\n",
    "for line in grid:\n",
    "    model.AddAllDifferent(line)\n",
    "\n",
    "## Constraint column\n",
    "def column(matrix, i):\n",
    "    return [row[i] for row in matrix]\n",
    "\n",
    "[model.AddAllDifferent(column(grid, i)) for i in range(0, columnCount)]\n",
    "\n",
    "class PrintSolutions(cp_model.CpSolverSolutionCallback):\n",
    "    \"\"\"Callback to print every solution\"\"\"\n",
    "\n",
    "    def __init__(self, grid):\n",
    "        cp_model.CpSolverSolutionCallback.__init__(self)\n",
    "        self.__grid = grid\n",
    "\n",
    "    def on_solution_callback(self):\n",
    "        flat = [str(self.Value(x)) for sublist in self.__grid for x in sublist]\n",
    "        items = [widgets.Label(str(i)) for i in flat]\n",
    "        grid = widgets.GridBox(items, layout=widgets.Layout(grid_template_columns=\"repeat(9, 100px)\"))\n",
    "        display(grid)\n",
    "        print(\"#####\")\n",
    "\n",
    "    def print_line(self, line):\n",
    "        print(' '.join(map(lambda x: str(self.Value(x)), line)))\n",
    "\n",
    "\n",
    "\n",
    "solution_printer = PrintSolutions(grid)\n",
    "# solver.parameters.enumerate_all_solutions = True\n",
    "status = solver.Solve(model, solution_printer)\n",
    "\n",
    "if status != 4:\n",
    "    print(\"Error\")"
   ],
   "metadata": {
    "collapsed": false
   }
  },
  {
   "cell_type": "code",
   "execution_count": 29,
   "outputs": [
    {
     "data": {
      "text/plain": "GridBox(children=(Label(value='0'), Label(value='1'), Label(value='2'), Label(value='3'), Label(value='4'), La…",
      "application/vnd.jupyter.widget-view+json": {
       "version_major": 2,
       "version_minor": 0,
       "model_id": "700bb7724e4743f0bdacd66dfa68d2c9"
      }
     },
     "execution_count": 29,
     "metadata": {},
     "output_type": "execute_result"
    }
   ],
   "source": [],
   "metadata": {
    "collapsed": false
   }
  }
 ],
 "metadata": {
  "kernelspec": {
   "display_name": "Python 3 (ipykernel)",
   "language": "python",
   "name": "python3"
  },
  "language_info": {
   "codemirror_mode": {
    "name": "ipython",
    "version": 3
   },
   "file_extension": ".py",
   "mimetype": "text/x-python",
   "name": "python",
   "nbconvert_exporter": "python",
   "pygments_lexer": "ipython3",
   "version": "3.10.8"
  }
 },
 "nbformat": 4,
 "nbformat_minor": 4
}
