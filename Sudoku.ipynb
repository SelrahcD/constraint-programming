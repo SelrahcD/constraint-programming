{
 "cells": [
  {
   "cell_type": "markdown",
   "source": [
    "# Sudoku\n",
    "\n",
    "## First, a case"
   ],
   "metadata": {
    "collapsed": false
   }
  },
  {
   "cell_type": "code",
   "execution_count": 24,
   "outputs": [
    {
     "name": "stdout",
     "output_type": "stream",
     "text": [
      "1\n",
      "2\n",
      "3\n",
      "4\n",
      "5\n",
      "6\n",
      "7\n",
      "8\n",
      "9\n"
     ]
    }
   ],
   "source": [
    "from ortools.sat.python import cp_model\n",
    "\n",
    "# Instantiate model and solver\n",
    "model = cp_model.CpModel()\n",
    "solver = cp_model.CpSolver()\n",
    "\n",
    "case = model.NewIntVar(1, 9, 'case')\n",
    "\n",
    "class PrintSolutions(cp_model.CpSolverSolutionCallback):\n",
    "    \"\"\"Callback to print every solution\"\"\"\n",
    "\n",
    "    def __init__(self, variable):\n",
    "        cp_model.CpSolverSolutionCallback.__init__(self)\n",
    "        self.__variable = variable\n",
    "\n",
    "    def on_solution_callback(self):\n",
    "        print(self.Value(self.__variable))\n",
    "\n",
    "\n",
    "solution_printer = PrintSolutions(case)\n",
    "solver.parameters.enumerate_all_solutions = True\n",
    "status = solver.Solve(model, solution_printer)\n"
   ],
   "metadata": {
    "collapsed": false
   }
  },
  {
   "cell_type": "markdown",
   "source": [
    "## Now, 2 cases"
   ],
   "metadata": {
    "collapsed": false
   }
  },
  {
   "cell_type": "code",
   "execution_count": 25,
   "outputs": [
    {
     "name": "stdout",
     "output_type": "stream",
     "text": [
      "[1, 2]\n",
      "[2, 1]\n"
     ]
    }
   ],
   "source": [
    "# Instantiate model and solver\n",
    "model = cp_model.CpModel()\n",
    "solver = cp_model.CpSolver()\n",
    "\n",
    "caseA = model.NewIntVar(1, 2, 'case')\n",
    "caseB = model.NewIntVar(1, 2, 'case')\n",
    "\n",
    "model.AddAllDifferent([caseA, caseB])\n",
    "\n",
    "class PrintSolutions(cp_model.CpSolverSolutionCallback):\n",
    "    \"\"\"Callback to print every solution\"\"\"\n",
    "\n",
    "    def __init__(self, variableA, variableB):\n",
    "        cp_model.CpSolverSolutionCallback.__init__(self)\n",
    "        self.__variableA = variableA\n",
    "        self.__variableB = variableB\n",
    "\n",
    "    def on_solution_callback(self):\n",
    "        print(\"[\" + str(self.Value(self.__variableA)) + \", \"  + str(self.Value(self.__variableB)) + \"]\")\n",
    "\n",
    "\n",
    "solution_printer = PrintSolutions(caseA, caseB)\n",
    "solver.parameters.enumerate_all_solutions = True\n",
    "status = solver.Solve(model, solution_printer)\n",
    "\n"
   ],
   "metadata": {
    "collapsed": false
   }
  },
  {
   "cell_type": "markdown",
   "source": [
    "## All elements of a line must be different\n"
   ],
   "metadata": {
    "collapsed": false
   }
  },
  {
   "cell_type": "code",
   "execution_count": 26,
   "outputs": [
    {
     "name": "stdout",
     "output_type": "stream",
     "text": [
      "3 2 1\n",
      "3 1 2\n",
      "2 3 1\n",
      "2 1 3\n",
      "1 3 2\n",
      "1 2 3\n"
     ]
    }
   ],
   "source": [
    "# Instantiate model and solver\n",
    "model = cp_model.CpModel()\n",
    "solver = cp_model.CpSolver()\n",
    "\n",
    "line1 = [model.NewIntVar(1, 3, 'case' + str(i)) for i in range(0, 3)]\n",
    "\n",
    "model.AddAllDifferent(line1)\n",
    "\n",
    "class PrintSolutions(cp_model.CpSolverSolutionCallback):\n",
    "    \"\"\"Callback to print every solution\"\"\"\n",
    "\n",
    "    def __init__(self, line):\n",
    "        cp_model.CpSolverSolutionCallback.__init__(self)\n",
    "        self.__line = line\n",
    "\n",
    "    def on_solution_callback(self):\n",
    "        print(' '.join(map(lambda x: str(self.Value(x)), self.__line)))\n",
    "\n",
    "\n",
    "\n",
    "solution_printer = PrintSolutions(line1)\n",
    "solver.parameters.enumerate_all_solutions = True\n",
    "status = solver.Solve(model, solution_printer)\n"
   ],
   "metadata": {
    "collapsed": false
   }
  },
  {
   "cell_type": "code",
   "execution_count": 37,
   "outputs": [
    {
     "name": "stdout",
     "output_type": "stream",
     "text": [
      "2 1 3\n",
      "3 2 1\n",
      "#####\n",
      "2 3 1\n",
      "3 1 2\n",
      "#####\n",
      "3 2 1\n",
      "1 3 2\n",
      "#####\n",
      "2 1 3\n",
      "1 3 2\n",
      "#####\n",
      "3 1 2\n",
      "2 3 1\n",
      "#####\n",
      "3 2 1\n",
      "2 1 3\n",
      "#####\n",
      "3 1 2\n",
      "1 2 3\n",
      "#####\n",
      "2 3 1\n",
      "1 2 3\n",
      "#####\n",
      "1 3 2\n",
      "2 1 3\n",
      "#####\n",
      "1 3 2\n",
      "3 2 1\n",
      "#####\n",
      "1 2 3\n",
      "2 3 1\n",
      "#####\n",
      "1 2 3\n",
      "3 1 2\n",
      "#####\n"
     ]
    }
   ],
   "source": [
    "# Instantiate model and solver\n",
    "model = cp_model.CpModel()\n",
    "solver = cp_model.CpSolver()\n",
    "\n",
    "lineCount = 2\n",
    "\n",
    "\n",
    "grid = [\n",
    "    [model.NewIntVar(1, 3, 'case' + str(i)) for i in range(0, 3)] for l in range(0, lineCount)\n",
    "]\n",
    "\n",
    "\n",
    "\n",
    "## Constraint line\n",
    "for line in grid:\n",
    "    model.AddAllDifferent(line)\n",
    "\n",
    "## Constraint column\n",
    "def column(matrix, i):\n",
    "    return [row[i] for row in matrix]\n",
    "\n",
    "[model.AddAllDifferent(column(grid, i)) for i in range(0, 3)]\n",
    "\n",
    "class PrintSolutions(cp_model.CpSolverSolutionCallback):\n",
    "    \"\"\"Callback to print every solution\"\"\"\n",
    "\n",
    "    def __init__(self, grid):\n",
    "        cp_model.CpSolverSolutionCallback.__init__(self)\n",
    "        self.__grid = grid\n",
    "\n",
    "    def on_solution_callback(self):\n",
    "        [self.print_line(line) for line in self.__grid]\n",
    "        print(\"#####\")\n",
    "\n",
    "    def print_line(self, line):\n",
    "        print(' '.join(map(lambda x: str(self.Value(x)), line)))\n",
    "\n",
    "\n",
    "\n",
    "solution_printer = PrintSolutions(grid)\n",
    "solver.parameters.enumerate_all_solutions = True\n",
    "status = solver.Solve(model, solution_printer)"
   ],
   "metadata": {
    "collapsed": false
   }
  }
 ],
 "metadata": {
  "kernelspec": {
   "display_name": "Python 3",
   "language": "python",
   "name": "python3"
  },
  "language_info": {
   "codemirror_mode": {
    "name": "ipython",
    "version": 2
   },
   "file_extension": ".py",
   "mimetype": "text/x-python",
   "name": "python",
   "nbconvert_exporter": "python",
   "pygments_lexer": "ipython2",
   "version": "2.7.6"
  }
 },
 "nbformat": 4,
 "nbformat_minor": 0
}
