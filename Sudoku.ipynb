{
 "cells": [
  {
   "cell_type": "markdown",
   "source": [
    "# Sudoku\n",
    "\n",
    "## First, a case"
   ],
   "metadata": {
    "collapsed": false
   }
  },
  {
   "cell_type": "code",
   "execution_count": 45,
   "outputs": [
    {
     "name": "stdout",
     "output_type": "stream",
     "text": [
      "1\n",
      "2\n",
      "3\n",
      "4\n",
      "5\n",
      "6\n",
      "7\n",
      "8\n",
      "9\n"
     ]
    }
   ],
   "source": [
    "from ortools.sat.python import cp_model\n",
    "\n",
    "# Instantiate model and solver\n",
    "model = cp_model.CpModel()\n",
    "solver = cp_model.CpSolver()\n",
    "\n",
    "case = model.NewIntVar(1, 9, 'case')\n",
    "\n",
    "class PrintSolutions(cp_model.CpSolverSolutionCallback):\n",
    "    \"\"\"Callback to print every solution\"\"\"\n",
    "\n",
    "    def __init__(self, variable):\n",
    "        cp_model.CpSolverSolutionCallback.__init__(self)\n",
    "        self.__variable = variable\n",
    "\n",
    "    def on_solution_callback(self):\n",
    "        print(self.Value(self.__variable))\n",
    "\n",
    "\n",
    "solution_printer = PrintSolutions(case)\n",
    "solver.parameters.enumerate_all_solutions = True\n",
    "status = solver.Solve(model, solution_printer)\n"
   ],
   "metadata": {
    "collapsed": false
   }
  },
  {
   "cell_type": "markdown",
   "source": [
    "## Now, 2 cases"
   ],
   "metadata": {
    "collapsed": false
   }
  },
  {
   "cell_type": "code",
   "execution_count": 46,
   "outputs": [
    {
     "name": "stdout",
     "output_type": "stream",
     "text": [
      "[1, 2]\n",
      "[2, 1]\n"
     ]
    }
   ],
   "source": [
    "# Instantiate model and solver\n",
    "model = cp_model.CpModel()\n",
    "solver = cp_model.CpSolver()\n",
    "\n",
    "caseA = model.NewIntVar(1, 2, 'case')\n",
    "caseB = model.NewIntVar(1, 2, 'case')\n",
    "\n",
    "model.AddAllDifferent([caseA, caseB])\n",
    "\n",
    "class PrintSolutions(cp_model.CpSolverSolutionCallback):\n",
    "    \"\"\"Callback to print every solution\"\"\"\n",
    "\n",
    "    def __init__(self, variableA, variableB):\n",
    "        cp_model.CpSolverSolutionCallback.__init__(self)\n",
    "        self.__variableA = variableA\n",
    "        self.__variableB = variableB\n",
    "\n",
    "    def on_solution_callback(self):\n",
    "        print(\"[\" + str(self.Value(self.__variableA)) + \", \"  + str(self.Value(self.__variableB)) + \"]\")\n",
    "\n",
    "\n",
    "solution_printer = PrintSolutions(caseA, caseB)\n",
    "solver.parameters.enumerate_all_solutions = True\n",
    "status = solver.Solve(model, solution_printer)\n",
    "\n"
   ],
   "metadata": {
    "collapsed": false
   }
  },
  {
   "cell_type": "markdown",
   "source": [
    "## All elements of a line must be different\n"
   ],
   "metadata": {
    "collapsed": false
   }
  },
  {
   "cell_type": "code",
   "execution_count": 47,
   "outputs": [
    {
     "name": "stdout",
     "output_type": "stream",
     "text": [
      "3 2 1\n",
      "3 1 2\n",
      "2 3 1\n",
      "2 1 3\n",
      "1 3 2\n",
      "1 2 3\n"
     ]
    }
   ],
   "source": [
    "# Instantiate model and solver\n",
    "model = cp_model.CpModel()\n",
    "solver = cp_model.CpSolver()\n",
    "\n",
    "line1 = [model.NewIntVar(1, 3, 'case' + str(i)) for i in range(0, 3)]\n",
    "\n",
    "model.AddAllDifferent(line1)\n",
    "\n",
    "class PrintSolutions(cp_model.CpSolverSolutionCallback):\n",
    "    \"\"\"Callback to print every solution\"\"\"\n",
    "\n",
    "    def __init__(self, line):\n",
    "        cp_model.CpSolverSolutionCallback.__init__(self)\n",
    "        self.__line = line\n",
    "\n",
    "    def on_solution_callback(self):\n",
    "        print(' '.join(map(lambda x: str(self.Value(x)), self.__line)))\n",
    "\n",
    "\n",
    "\n",
    "solution_printer = PrintSolutions(line1)\n",
    "solver.parameters.enumerate_all_solutions = True\n",
    "status = solver.Solve(model, solution_printer)\n"
   ],
   "metadata": {
    "collapsed": false
   }
  },
  {
   "cell_type": "code",
   "execution_count": 70,
   "outputs": [
    {
     "name": "stdout",
     "output_type": "stream",
     "text": [
      "3 5 6 4 2 8 1 7 9\n",
      "9 8 2 7 1 3 6 5 4\n",
      "7 1 4 5 9 6 2 8 3\n",
      "1 6 7 2 3 4 8 9 5\n",
      "5 4 9 8 6 1 7 3 2\n",
      "2 3 8 9 5 7 4 1 6\n",
      "6 2 3 1 7 5 9 4 8\n",
      "8 9 1 3 4 2 5 6 7\n",
      "4 7 5 6 8 9 3 2 1\n",
      "#####\n"
     ]
    }
   ],
   "source": [
    "# Instantiate model and solver\n",
    "model = cp_model.CpModel()\n",
    "solver = cp_model.CpSolver()\n",
    "\n",
    "lineCount = 9\n",
    "columnCount = 9\n",
    "\n",
    "grid = [\n",
    "    [model.NewIntVar(1, columnCount, 'case' + str(i)) for i in range(0, columnCount)] for l in range(0, lineCount)\n",
    "]\n",
    "\n",
    "\n",
    "square1_1 = [\n",
    "    grid[0][0],\n",
    "    grid[0][1],\n",
    "    grid[0][2],\n",
    "    grid[1][0],\n",
    "    grid[1][1],\n",
    "    grid[1][2],\n",
    "    grid[2][0],\n",
    "    grid[2][1],\n",
    "    grid[2][2]\n",
    "]\n",
    "\n",
    "square1_2 = [\n",
    "    grid[0][3],\n",
    "    grid[0][4],\n",
    "    grid[0][5],\n",
    "    grid[1][3],\n",
    "    grid[1][4],\n",
    "    grid[1][5],\n",
    "    grid[2][3],\n",
    "    grid[2][4],\n",
    "    grid[2][5]\n",
    "]\n",
    "\n",
    "square2_1 = [\n",
    "    grid[3][0],\n",
    "    grid[3][1],\n",
    "    grid[3][2],\n",
    "    grid[4][0],\n",
    "    grid[4][1],\n",
    "    grid[4][2],\n",
    "    grid[5][0],\n",
    "    grid[5][1],\n",
    "    grid[5][2]\n",
    "]\n",
    "\n",
    "square2_2 = [\n",
    "    grid[3][3],\n",
    "    grid[3][4],\n",
    "    grid[3][5],\n",
    "    grid[4][3],\n",
    "    grid[4][4],\n",
    "    grid[4][5],\n",
    "    grid[5][3],\n",
    "    grid[5][4],\n",
    "    grid[5][5]\n",
    "]\n",
    "\n",
    "square3_1 = [\n",
    "    grid[6][0],\n",
    "    grid[6][1],\n",
    "    grid[6][2],\n",
    "    grid[7][0],\n",
    "    grid[7][1],\n",
    "    grid[7][2],\n",
    "    grid[8][0],\n",
    "    grid[8][1],\n",
    "    grid[8][2]\n",
    "]\n",
    "\n",
    "square3_2 = [\n",
    "    grid[6][3],\n",
    "    grid[6][4],\n",
    "    grid[6][5],\n",
    "    grid[7][3],\n",
    "    grid[7][4],\n",
    "    grid[7][5],\n",
    "    grid[8][3],\n",
    "    grid[8][4],\n",
    "    grid[8][5]\n",
    "]\n",
    "model.AddAllDifferent(square1_1)\n",
    "model.AddAllDifferent(square1_2)\n",
    "model.AddAllDifferent(square2_1)\n",
    "model.AddAllDifferent(square2_2)\n",
    "model.AddAllDifferent(square3_1)\n",
    "model.AddAllDifferent(square3_2)\n",
    "\n",
    "## Constraint line\n",
    "for line in grid:\n",
    "    model.AddAllDifferent(line)\n",
    "\n",
    "## Constraint column\n",
    "def column(matrix, i):\n",
    "    return [row[i] for row in matrix]\n",
    "\n",
    "[model.AddAllDifferent(column(grid, i)) for i in range(0, columnCount)]\n",
    "\n",
    "class PrintSolutions(cp_model.CpSolverSolutionCallback):\n",
    "    \"\"\"Callback to print every solution\"\"\"\n",
    "\n",
    "    def __init__(self, grid):\n",
    "        cp_model.CpSolverSolutionCallback.__init__(self)\n",
    "        self.__grid = grid\n",
    "\n",
    "    def on_solution_callback(self):\n",
    "        [self.print_line(line) for line in self.__grid]\n",
    "        print(\"#####\")\n",
    "\n",
    "    def print_line(self, line):\n",
    "        print(' '.join(map(lambda x: str(self.Value(x)), line)))\n",
    "\n",
    "\n",
    "\n",
    "solution_printer = PrintSolutions(grid)\n",
    "# solver.parameters.enumerate_all_solutions = True\n",
    "status = solver.Solve(model, solution_printer)\n",
    "\n",
    "if status != 4:\n",
    "    print(\"Error\")\n",
    "\n"
   ],
   "metadata": {
    "collapsed": false
   }
  },
  {
   "cell_type": "code",
   "execution_count": null,
   "outputs": [],
   "source": [],
   "metadata": {
    "collapsed": false
   }
  }
 ],
 "metadata": {
  "kernelspec": {
   "display_name": "Python 3",
   "language": "python",
   "name": "python3"
  },
  "language_info": {
   "codemirror_mode": {
    "name": "ipython",
    "version": 2
   },
   "file_extension": ".py",
   "mimetype": "text/x-python",
   "name": "python",
   "nbconvert_exporter": "python",
   "pygments_lexer": "ipython2",
   "version": "2.7.6"
  }
 },
 "nbformat": 4,
 "nbformat_minor": 0
}
