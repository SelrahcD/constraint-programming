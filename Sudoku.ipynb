{
 "cells": [
  {
   "cell_type": "markdown",
   "metadata": {},
   "source": [
    "# Sudoku\n",
    "\n",
    "## First, a case"
   ]
  },
  {
   "cell_type": "code",
   "execution_count": 1,
   "metadata": {
    "collapsed": false,
    "jupyter": {
     "outputs_hidden": false
    }
   },
   "outputs": [
    {
     "name": "stdout",
     "output_type": "stream",
     "text": [
      "1\n",
      "2\n",
      "3\n",
      "4\n",
      "5\n",
      "6\n",
      "7\n",
      "8\n",
      "9\n"
     ]
    }
   ],
   "source": [
    "from ortools.sat.python import cp_model\n",
    "\n",
    "# Instantiate model and solver\n",
    "model = cp_model.CpModel()\n",
    "solver = cp_model.CpSolver()\n",
    "\n",
    "case = model.NewIntVar(1, 9, 'case')\n",
    "\n",
    "class PrintSolutions(cp_model.CpSolverSolutionCallback):\n",
    "    \"\"\"Callback to print every solution\"\"\"\n",
    "\n",
    "    def __init__(self, variable):\n",
    "        cp_model.CpSolverSolutionCallback.__init__(self)\n",
    "        self.__variable = variable\n",
    "\n",
    "    def on_solution_callback(self):\n",
    "        print(self.Value(self.__variable))\n",
    "\n",
    "\n",
    "solution_printer = PrintSolutions(case)\n",
    "solver.parameters.enumerate_all_solutions = True\n",
    "status = solver.Solve(model, solution_printer)\n"
   ]
  },
  {
   "cell_type": "markdown",
   "metadata": {},
   "source": [
    "## Now, 2 cases"
   ]
  },
  {
   "cell_type": "code",
   "execution_count": 2,
   "metadata": {
    "collapsed": false,
    "jupyter": {
     "outputs_hidden": false
    }
   },
   "outputs": [
    {
     "name": "stdout",
     "output_type": "stream",
     "text": [
      "[1, 2]\n",
      "[2, 1]\n"
     ]
    }
   ],
   "source": [
    "# Instantiate model and solver\n",
    "model = cp_model.CpModel()\n",
    "solver = cp_model.CpSolver()\n",
    "\n",
    "caseA = model.NewIntVar(1, 2, 'case')\n",
    "caseB = model.NewIntVar(1, 2, 'case')\n",
    "\n",
    "model.AddAllDifferent([caseA, caseB])\n",
    "\n",
    "class PrintSolutions(cp_model.CpSolverSolutionCallback):\n",
    "    \"\"\"Callback to print every solution\"\"\"\n",
    "\n",
    "    def __init__(self, variableA, variableB):\n",
    "        cp_model.CpSolverSolutionCallback.__init__(self)\n",
    "        self.__variableA = variableA\n",
    "        self.__variableB = variableB\n",
    "\n",
    "    def on_solution_callback(self):\n",
    "        print(\"[\" + str(self.Value(self.__variableA)) + \", \"  + str(self.Value(self.__variableB)) + \"]\")\n",
    "\n",
    "\n",
    "solution_printer = PrintSolutions(caseA, caseB)\n",
    "solver.parameters.enumerate_all_solutions = True\n",
    "status = solver.Solve(model, solution_printer)\n",
    "\n"
   ]
  },
  {
   "cell_type": "markdown",
   "metadata": {},
   "source": [
    "## All elements of a line must be different\n"
   ]
  },
  {
   "cell_type": "code",
   "execution_count": 3,
   "metadata": {
    "collapsed": false,
    "jupyter": {
     "outputs_hidden": false
    }
   },
   "outputs": [
    {
     "name": "stdout",
     "output_type": "stream",
     "text": [
      "3 2 1\n",
      "3 1 2\n",
      "2 3 1\n",
      "2 1 3\n",
      "1 3 2\n",
      "1 2 3\n"
     ]
    }
   ],
   "source": [
    "# Instantiate model and solver\n",
    "model = cp_model.CpModel()\n",
    "solver = cp_model.CpSolver()\n",
    "\n",
    "line1 = [model.NewIntVar(1, 3, 'case' + str(i)) for i in range(0, 3)]\n",
    "\n",
    "model.AddAllDifferent(line1)\n",
    "\n",
    "class PrintSolutions(cp_model.CpSolverSolutionCallback):\n",
    "    \"\"\"Callback to print every solution\"\"\"\n",
    "\n",
    "    def __init__(self, line):\n",
    "        cp_model.CpSolverSolutionCallback.__init__(self)\n",
    "        self.__line = line\n",
    "\n",
    "    def on_solution_callback(self):\n",
    "        print(' '.join(map(lambda x: str(self.Value(x)), self.__line)))\n",
    "\n",
    "\n",
    "\n",
    "solution_printer = PrintSolutions(line1)\n",
    "solver.parameters.enumerate_all_solutions = True\n",
    "status = solver.Solve(model, solution_printer)\n"
   ]
  },
  {
   "cell_type": "code",
   "execution_count": 43,
   "metadata": {
    "collapsed": false,
    "jupyter": {
     "outputs_hidden": false
    }
   },
   "outputs": [
    {
     "name": "stdout",
     "output_type": "stream",
     "text": [
      "8 6 3 7 1 2 9 5 4\n",
      "2 5 1 8 9 4 7 6 3\n",
      "9 4 7 3 5 6 8 1 2\n",
      "5 1 9 4 6 8 3 2 7\n",
      "3 8 2 5 7 1 6 4 9\n",
      "4 7 6 2 3 9 1 8 5\n",
      "7 9 4 1 8 5 2 3 6\n",
      "1 3 5 6 2 7 4 9 8\n",
      "6 2 8 9 4 3 5 7 1\n",
      "#####\n"
     ]
    }
   ],
   "source": [
    "# Instantiate model and solver\n",
    "model = cp_model.CpModel()\n",
    "solver = cp_model.CpSolver()\n",
    "\n",
    "lineCount = 9\n",
    "columnCount = 9\n",
    "\n",
    "grid = [\n",
    "    [model.NewIntVar(1, columnCount, 'case' + str(i)) for i in range(0, columnCount)] for l in range(0, lineCount)\n",
    "]\n",
    "\n",
    "## Constraint of 3x3 squares\n",
    "def square(ii,jj):\n",
    "    return [grid[i+ii][j+jj] for i in range(0,3) for j in range(0,3)]\n",
    "\n",
    "[model.AddAllDifferent(square(x,y)) for x in range(0,6,3) for y in range(0,6,3)]\n",
    "\n",
    "## Constraint line\n",
    "for line in grid:\n",
    "    model.AddAllDifferent(line)\n",
    "\n",
    "## Constraint column\n",
    "def column(matrix, i):\n",
    "    return [row[i] for row in matrix]\n",
    "\n",
    "[model.AddAllDifferent(column(grid, i)) for i in range(0, columnCount)]\n",
    "\n",
    "class PrintSolutions(cp_model.CpSolverSolutionCallback):\n",
    "    \"\"\"Callback to print every solution\"\"\"\n",
    "\n",
    "    def __init__(self, grid):\n",
    "        cp_model.CpSolverSolutionCallback.__init__(self)\n",
    "        self.__grid = grid\n",
    "\n",
    "    def on_solution_callback(self):\n",
    "        [self.print_line(line) for line in self.__grid]\n",
    "        print(\"#####\")\n",
    "\n",
    "    def print_line(self, line):\n",
    "        print(' '.join(map(lambda x: str(self.Value(x)), line)))\n",
    "\n",
    "\n",
    "\n",
    "solution_printer = PrintSolutions(grid)\n",
    "# solver.parameters.enumerate_all_solutions = True\n",
    "status = solver.Solve(model, solution_printer)\n",
    "\n",
    "if status != 4:\n",
    "    print(\"Error\")\n",
    "\n"
   ]
  },
  {
   "cell_type": "code",
   "execution_count": null,
   "metadata": {
    "collapsed": false,
    "jupyter": {
     "outputs_hidden": false
    }
   },
   "outputs": [],
   "source": []
  },
  {
   "cell_type": "code",
   "execution_count": null,
   "metadata": {},
   "outputs": [],
   "source": []
  },
  {
   "cell_type": "code",
   "execution_count": null,
   "metadata": {},
   "outputs": [],
   "source": []
  },
  {
   "cell_type": "code",
   "execution_count": null,
   "metadata": {},
   "outputs": [],
   "source": []
  },
  {
   "cell_type": "code",
   "execution_count": null,
   "metadata": {},
   "outputs": [],
   "source": []
  }
 ],
 "metadata": {
  "kernelspec": {
   "display_name": "Python 3 (ipykernel)",
   "language": "python",
   "name": "python3"
  },
  "language_info": {
   "codemirror_mode": {
    "name": "ipython",
    "version": 3
   },
   "file_extension": ".py",
   "mimetype": "text/x-python",
   "name": "python",
   "nbconvert_exporter": "python",
   "pygments_lexer": "ipython3",
   "version": "3.10.8"
  }
 },
 "nbformat": 4,
 "nbformat_minor": 4
}
