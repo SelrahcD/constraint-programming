{
 "cells": [
  {
   "cell_type": "markdown",
   "source": [
    "# Linear Programming\n",
    "\n",
    "Following this [introduction article](https://towardsdatascience.com/introduction-to-linear-programming-in-python-9261e7eb44b)"
   ],
   "metadata": {
    "collapsed": false
   }
  },
  {
   "cell_type": "code",
   "execution_count": null,
   "id": "3f93bfd7-f13b-41e6-935a-6c12cc42eabc",
   "metadata": {},
   "outputs": [],
   "source": []
  }
 ],
 "metadata": {
  "kernelspec": {
   "display_name": "Python 3 (ipykernel)",
   "language": "python",
   "name": "python3"
  },
  "language_info": {
   "codemirror_mode": {
    "name": "ipython",
    "version": 3
   },
   "file_extension": ".py",
   "mimetype": "text/x-python",
   "name": "python",
   "nbconvert_exporter": "python",
   "pygments_lexer": "ipython3",
   "version": "3.10.8"
  }
 },
 "nbformat": 4,
 "nbformat_minor": 5
}
