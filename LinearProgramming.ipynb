{
 "cells": [
  {
   "cell_type": "markdown",
   "source": [
    "# Linear Programming\n",
    "\n",
    "Following this [introduction article](https://towardsdatascience.com/introduction-to-linear-programming-in-python-9261e7eb44b)"
   ],
   "metadata": {
    "collapsed": false
   }
  },
  {
   "cell_type": "code",
   "execution_count": 26,
   "id": "3f93bfd7-f13b-41e6-935a-6c12cc42eabc",
   "metadata": {},
   "outputs": [],
   "source": [
    "# Import OR-Tools wrapper for linear programming\n",
    "from ortools.linear_solver import pywraplp\n",
    "\n",
    "# Create a solver using the GLOP backend\n",
    "solver = pywraplp.Solver('Maximize army power', pywraplp.Solver.CBC_MIXED_INTEGER_PROGRAMMING)"
   ]
  },
  {
   "cell_type": "code",
   "execution_count": 27,
   "id": "72745221-19a8-48cd-a127-07148119e54f",
   "metadata": {},
   "outputs": [],
   "source": [
    "# Create the variables we want to optimize\n",
    "swordsmen = solver.IntVar(0, solver.infinity(), 'swordsmen')\n",
    "bowmen = solver.IntVar(0, solver.infinity(), 'bowmen')\n",
    "horsemen = solver.IntVar(0, solver.infinity(), 'horsemen')"
   ]
  },
  {
   "cell_type": "code",
   "execution_count": 28,
   "id": "3f6aabad-0a68-47bd-bb59-5eb6f060ba84",
   "metadata": {},
   "outputs": [
    {
     "data": {
      "text/plain": [
       "<ortools.linear_solver.pywraplp.Constraint; proxy of <Swig Object of type 'operations_research::MPConstraint *' at 0x10531bc60> >"
      ]
     },
     "execution_count": 28,
     "metadata": {},
     "output_type": "execute_result"
    }
   ],
   "source": [
    "# Add constraints for each resource\n",
    "solver.Add(swordsmen*60 + bowmen*80 + horsemen*140 <= 1200) # Food\n",
    "solver.Add(swordsmen*20 + bowmen*10 <= 800)                 # Wood\n",
    "solver.Add(bowmen*40 + horsemen*100 <= 600)                 # Gold"
   ]
  },
  {
   "cell_type": "code",
   "execution_count": 29,
   "id": "ae482581-f18d-4156-b4f8-db0b6ee6ecdc",
   "metadata": {},
   "outputs": [],
   "source": [
    "# Maximize the objective function\n",
    "solver.Maximize(swordsmen*70 + bowmen*95 + horsemen*230)"
   ]
  },
  {
   "cell_type": "code",
   "execution_count": 30,
   "id": "dbc89da5-80f3-476b-92a4-ba2f18640106",
   "metadata": {},
   "outputs": [
    {
     "name": "stdout",
     "output_type": "stream",
     "text": [
      "================= Solution =================\n",
      "Solved in 631.00 milliseconds in 0 iterations\n",
      "\n",
      "Optimal power = 1800.0 💪power\n",
      "Army:\n",
      " - 🗡️Swordsmen = 6.0\n",
      " - 🏹Bowmen = 0.0\n",
      " - 🐎Horsemen = 6.0\n"
     ]
    }
   ],
   "source": [
    "# Solve problem\n",
    "status = solver.Solve()\n",
    "\n",
    "# If an optimal solution has been found, print results\n",
    "if status == pywraplp.Solver.OPTIMAL:\n",
    "  print('================= Solution =================')\n",
    "  print(f'Solved in {solver.wall_time():.2f} milliseconds in {solver.iterations()} iterations')\n",
    "  print()\n",
    "  print(f'Optimal power = {solver.Objective().Value()} 💪power')\n",
    "  print('Army:')\n",
    "  print(f' - 🗡️Swordsmen = {swordsmen.solution_value()}')\n",
    "  print(f' - 🏹Bowmen = {bowmen.solution_value()}')\n",
    "  print(f' - 🐎Horsemen = {horsemen.solution_value()}')\n",
    "else:\n",
    "  print('The solver could not find an optimal solution.')"
   ]
  },
  {
   "cell_type": "code",
   "execution_count": 31,
   "id": "742ffafd-a210-4e86-a599-300f4329d8d1",
   "metadata": {},
   "outputs": [
    {
     "name": "stdout",
     "output_type": "stream",
     "text": [
      "================= Solution =================\n",
      "Solved in 3.00 milliseconds in 0 iterations\n",
      "\n",
      "Optimal value = 1800.0 💪power\n",
      "Army:\n",
      " - 🗡️Swordsmen = 6.0\n",
      " - 🏹Bowmen = 0.0\n",
      " - 🐎Horsemen = 6.0\n"
     ]
    }
   ],
   "source": [
    "# Inputs\n",
    "UNITS = ['🗡️Swordsmen', '🏹Bowmen', '🐎Horsemen']\n",
    "\n",
    "DATA = [[60, 20, 0, 70],\n",
    "        [80, 10, 40, 95],\n",
    "        [140, 0, 100, 230]]\n",
    "\n",
    "RESOURCES = [1200, 800, 600]\n",
    "\n",
    "\n",
    "def solve_army(UNITS, DATA, RESOURCES):\n",
    "  # Create the linear solver using the CBC backend\n",
    "  solver = pywraplp.Solver('Maximize army power', pywraplp.Solver.CBC_MIXED_INTEGER_PROGRAMMING)\n",
    "\n",
    "  # 1. Create the variables we want to optimize\n",
    "  units = [solver.IntVar(0, solver.infinity(), unit) for unit in UNITS]\n",
    "\n",
    "  # 2. Add constraints for each resource\n",
    "  for r, _ in enumerate(RESOURCES):\n",
    "    solver.Add(sum(DATA[u][r] * units[u] for u, _ in enumerate(units)) <= RESOURCES[r])\n",
    "\n",
    "  # 3. Maximize the objective function\n",
    "  solver.Maximize(sum(DATA[u][-1] * units[u] for u, _ in enumerate(units)))\n",
    "\n",
    "  # Solve problem\n",
    "  status = solver.Solve()\n",
    "\n",
    "  # If an optimal solution has been found, print results\n",
    "  if status == pywraplp.Solver.OPTIMAL:\n",
    "    print('================= Solution =================')\n",
    "    print(f'Solved in {solver.wall_time():.2f} milliseconds in {solver.iterations()} iterations')\n",
    "    print()\n",
    "    print(f'Optimal value = {solver.Objective().Value()} 💪power')\n",
    "    print('Army:')\n",
    "    for u, _ in enumerate(units):\n",
    "      print(f' - {units[u].name()} = {units[u].solution_value()}')\n",
    "  else:\n",
    "    print('The solver could not find an optimal solution.')\n",
    "\n",
    "solve_army(UNITS, DATA, RESOURCES)"
   ]
  },
  {
   "cell_type": "code",
   "execution_count": 32,
   "id": "413755d9-761c-4ee2-aa7c-68e6025e7cad",
   "metadata": {},
   "outputs": [
    {
     "name": "stdout",
     "output_type": "stream",
     "text": [
      "================= Solution =================\n",
      "Solved in 25.00 milliseconds in 412 iterations\n",
      "\n",
      "Optimal value = 1393145.0 💪power\n",
      "Army:\n",
      " - 🗡️Swordsmen = 2.0\n",
      " - 🛡️Men-at-arms = 1283.0\n",
      " - 🏹Bowmen = 3.0\n",
      " - ❌Crossbowmen = 0.0\n",
      " - 🔫Handcannoneers = 454.0\n",
      " - 🐎Horsemen = 0.0\n",
      " - ♞Knights = 0.0\n",
      " - 🐏Battering rams = 301.0\n",
      " - 🎯Springalds = 0.0\n",
      " - 🪨Mangonels = 0.0\n"
     ]
    }
   ],
   "source": [
    "UNITS = [\n",
    "    '🗡️Swordsmen',\n",
    "    '🛡️Men-at-arms',\n",
    "    '🏹Bowmen',\n",
    "    '❌Crossbowmen',\n",
    "    '🔫Handcannoneers',\n",
    "    '🐎Horsemen',\n",
    "    '♞Knights',\n",
    "    '🐏Battering rams',\n",
    "    '🎯Springalds',\n",
    "    '🪨Mangonels',\n",
    "]\n",
    "\n",
    "DATA = [\n",
    "    [60, 20, 0, 6, 70],\n",
    "    [100, 0, 20, 12, 155],\n",
    "    [30, 50, 0, 5, 70],\n",
    "    [80, 0, 40, 12, 80],\n",
    "    [120, 0, 120, 35, 150],\n",
    "    [100, 20, 0, 9, 125],\n",
    "    [140, 0, 100, 24, 230],\n",
    "    [0, 300, 0, 200, 700],\n",
    "    [0, 250, 250, 30, 200],\n",
    "    [0, 400, 200, 12*3, 240]\n",
    "]\n",
    "\n",
    "RESOURCES = [183000, 90512, 80150]\n",
    "\n",
    "\n",
    "def solve_army(UNITS, DATA, RESOURCES):\n",
    "  # Create the linear solver using the CBC backend\n",
    "  solver = pywraplp.Solver('Maximize army power', pywraplp.Solver.CBC_MIXED_INTEGER_PROGRAMMING)\n",
    "\n",
    "  # 1. Create the variables we want to optimize\n",
    "  units = [solver.IntVar(0, solver.infinity(), unit) for unit in UNITS]\n",
    "\n",
    "  # 2. Add constraints for each resource\n",
    "  for r, _ in enumerate(RESOURCES):\n",
    "    solver.Add(sum(DATA[u][r] * units[u] for u, _ in enumerate(units)) <= RESOURCES[r])\n",
    "\n",
    "  # 3. Maximize the new objective function\n",
    "  solver.Maximize(sum((10*DATA[u][-2] + DATA[u][-1]) * units[u] for u, _ in enumerate(units)))\n",
    "\n",
    "  # Solve problem\n",
    "  status = solver.Solve()\n",
    "\n",
    "  # If an optimal solution has been found, print results\n",
    "  if status == pywraplp.Solver.OPTIMAL:\n",
    "    print('================= Solution =================')\n",
    "    print(f'Solved in {solver.wall_time():.2f} milliseconds in {solver.iterations()} iterations')\n",
    "    print()\n",
    "    print(f'Optimal value = {solver.Objective().Value()} 💪power')\n",
    "    print('Army:')\n",
    "    for u, _ in enumerate(units):\n",
    "      print(f' - {units[u].name()} = {units[u].solution_value()}')\n",
    "  else:\n",
    "    print('The solver could not find an optimal solution.')\n",
    "\n",
    "solve_army(UNITS, DATA, RESOURCES)"
   ]
  },
  {
   "cell_type": "code",
   "execution_count": null,
   "id": "1372e0c6-44e2-4fc0-9b12-601e8240d3b8",
   "metadata": {},
   "outputs": [],
   "source": []
  }
 ],
 "metadata": {
  "kernelspec": {
   "display_name": "Python 3 (ipykernel)",
   "language": "python",
   "name": "python3"
  },
  "language_info": {
   "codemirror_mode": {
    "name": "ipython",
    "version": 3
   },
   "file_extension": ".py",
   "mimetype": "text/x-python",
   "name": "python",
   "nbconvert_exporter": "python",
   "pygments_lexer": "ipython3",
   "version": "3.10.8"
  }
 },
 "nbformat": 4,
 "nbformat_minor": 5
}
